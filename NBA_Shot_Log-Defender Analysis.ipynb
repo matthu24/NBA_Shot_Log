{
 "cells": [
  {
   "cell_type": "markdown",
   "metadata": {},
   "source": [
    "##NBA shot log data- Best and worst shot defender analysis"
   ]
  },
  {
   "cell_type": "markdown",
   "metadata": {},
   "source": [
    "Data obtained from kaggle website.  This notebook is an expansion of Edward Yun's analysis, which was posted on the kaggle site as well."
   ]
  },
  {
   "cell_type": "code",
   "execution_count": 2,
   "metadata": {
    "collapsed": true
   },
   "outputs": [],
   "source": [
    "import pandas as pd\n",
    "import numpy as np\n",
    "%matplotlib inline\n",
    "import matplotlib.pyplot as plt"
   ]
  },
  {
   "cell_type": "code",
   "execution_count": 3,
   "metadata": {
    "collapsed": false
   },
   "outputs": [
    {
     "name": "stdout",
     "output_type": "stream",
     "text": [
      "   Defender_ID             Player\n",
      "0       101187     Anderson, Alan\n",
      "1       202711  Bogdanovic, Bojan\n",
      "3       203900      Brown, Markel\n",
      "4       201152    Young, Thaddeus\n",
      "5       101114    Williams, Deron\n"
     ]
    }
   ],
   "source": [
    "#Import shots DF and create defender DF, or a list of all the players who defended shots\n",
    "shots = pd.read_csv(\"/Users/matthu24/.spyder2-py3/shot_logs .csv\",encoding='ISO-8859-1')\n",
    "defender_df = pd.concat([shots[\"CLOSEST_DEFENDER_PLAYER_ID\"],shots[\"CLOSEST_DEFENDER\"]],axis = 1, keys = [\"Defender_ID\",\"Player\"])\n",
    "defender_df = defender_df.drop_duplicates()\n",
    "print(defender_df.head(5))\n"
   ]
  },
  {
   "cell_type": "code",
   "execution_count": 4,
   "metadata": {
    "collapsed": true
   },
   "outputs": [],
   "source": [
    "#Create shooter DF\n",
    "shooter_df = pd.concat([shots[\"player_id\"],shots[\"player_name\"]],axis = 1, keys =  [\"Shooter_ID\",\"Shooter_name\"])\n",
    "shooter_df = shooter_df.drop_duplicates()\n"
   ]
  },
  {
   "cell_type": "code",
   "execution_count": 6,
   "metadata": {
    "collapsed": false
   },
   "outputs": [
    {
     "name": "stdout",
     "output_type": "stream",
     "text": [
      "        Shooter_ID    Shooter_name  FGM  FGA       FG%\n",
      "109092      201599  deandre jordan  280  393  0.712468\n",
      "36622         2199  tyson chandler  230  340  0.676471\n",
      "8408        203497     rudy gobert  167  267  0.625468\n",
      "37817       202962      greg smith   29   47  0.617021\n",
      "34368       201949   james johnson  191  311  0.614148\n",
      "10523       202334        ed davis  211  350  0.602857\n",
      "30838       201582   alexis ajinca  126  211  0.597156\n",
      "124686      203486   mason plumlee  236  403  0.585608\n",
      "74776       203089     john henson  140  241  0.580913\n",
      "95766         2365  chris andersen   79  136  0.580882\n"
     ]
    }
   ],
   "source": [
    "#Create field goals made(FGM), field goals attempted(FGA), and \n",
    "#field goal percentage (FG%) columns for the shooter_df\n",
    "for index, row in shooter_df.iterrows():\n",
    "    this_id = row['Shooter_ID']\n",
    "    \n",
    "    #Note:\n",
    "    #1. Indexing strategy: DF.loc[row,column]\n",
    "    #2. count() method can only count a series hence the need to specify a column name \n",
    "    \n",
    "    #create FGM column: for each shooter, filter out shots DF to include only rows with the \n",
    "    #shooter, and also made shots.  Count up the rows to get FGM value for each shooter.  \n",
    "    shooter_df.loc[ (shooter_df['Shooter_ID'] == this_id), 'FGM'] = shots[ (shots['SHOT_RESULT'] == 'made') \n",
    "            & (shots['player_id'] == this_id)]['player_name'].count()\n",
    "    \n",
    "    #create FGA column\n",
    "    shooter_df.loc[(shooter_df[\"Shooter_ID\"]==this_id),\"FGA\"] = shots[(shots[\"player_id\"]==this_id)][\"player_name\"].count()\n",
    "    \n",
    "    shooter_df[\"FG%\"] = shooter_df[\"FGM\"]/shooter_df[\"FGA\"]\n",
    "\n",
    "best_FGPercent = shooter_df.sort_values(by = \"FG%\",ascending = False)\n",
    "print(best_FGPercent.head(10))\n"
   ]
  },
  {
   "cell_type": "code",
   "execution_count": 11,
   "metadata": {
    "collapsed": false
   },
   "outputs": [],
   "source": [
    "#Create defender field goal attempt (number of shots defender defended against), defender field \n",
    "#goal made (number of shots that went in against the defender), and DFG% (defender field goal %)\n",
    "for index, row in defender_df.iterrows():\n",
    "    this_id = row[\"Defender_ID\"]\n",
    "    defender_df.loc[(defender_df[\"Defender_ID\"] == this_id),\"DFGM\"] = shots[(shots[\"SHOT_RESULT\"]==\"made\")\n",
    "            & (shots[\"CLOSEST_DEFENDER_PLAYER_ID\"] ==this_id)][\"player_name\"].count()\n",
    "    defender_df.loc[(defender_df[\"Defender_ID\"]==this_id),\"DFGA\"] = shots[(shots[\"CLOSEST_DEFENDER_PLAYER_ID\"]==this_id)][\"player_name\"].count()\n",
    "    defender_df[\"DFG%\"] = defender_df[\"DFGM\"]/defender_df[\"DFGA\"]  \n",
    "\n",
    "#Create \"offensive field goal percentage\" (OFG%) column, which will be defined as \n",
    "#the average combined field goal percentage of all the shooters a particular defender has\n",
    "#ever defended\n",
    "    OFGM = 0\n",
    "    OFGA = 0\n",
    "    for shooter_index,shooter_row in shooter_df.iterrows():\n",
    "        this_shooter_id = shooter_row[\"Shooter_ID\"]\n",
    "        #checking if the particular shooter was defended by the defender ever\n",
    "        shots_against_player = shots[(shots[\"player_id\"] == this_shooter_id) & (shots[\"CLOSEST_DEFENDER_PLAYER_ID\"] == this_id)][\"player_name\"].count() \n",
    "        if shots_against_player>0:\n",
    "            #every shooter being defended by the defender in question needs to add their shots made and attempted\n",
    "            OFGM += shots[(shots[\"SHOT_RESULT\"]==\"made\") & (shots[\"player_id\"]==this_shooter_id)][\"player_name\"].count()\n",
    "            OFGA += shots[shots[\"player_id\"]==this_shooter_id][\"player_name\"].count()\n",
    "    OFG = OFGM/OFGA\n",
    "    defender_df.loc[(defender_df[\"Defender_ID\"]==this_id),\"OFG%\"] = OFG\n",
    "        \n",
    "#diff column is the difference between the average field goal percentage of all the shooters\n",
    "#a defender has defended against, and the field goal percentage of only the shots the \n",
    "#the defender defended against: the higher the difference, the better the defender\n",
    "defender_df[\"diff\"] = defender_df[\"OFG%\"]-defender_df[\"DFG%\"]"
   ]
  },
  {
   "cell_type": "markdown",
   "metadata": {},
   "source": [
    "#Best shot defenders "
   ]
  },
  {
   "cell_type": "code",
   "execution_count": 16,
   "metadata": {
    "collapsed": false
   },
   "outputs": [
    {
     "name": "stdout",
     "output_type": "stream",
     "text": [
      "      Defender_ID            Player  DFGM  DFGA      DFG%      OFG%      diff\n",
      "908          2754       Allen, Tony   113   318  0.355346  0.446681  0.091335\n",
      "1331       203460   Roberson, Andre   120   320  0.375000  0.451885  0.076885\n",
      "978        101106     Bogut, Andrew   168   433  0.387991  0.460198  0.072207\n",
      "440        203497      Gobert, Rudy   192   489  0.392638  0.458280  0.065642\n",
      "186        203114  Middleton, Khris   165   421  0.391924  0.447774  0.055850\n",
      "190        201564        Mayo, O.J.   140   360  0.388889  0.443321  0.054432\n",
      "135        201579      Hibbert, Roy   212   517  0.410058  0.463919  0.053861\n",
      "272        203110   Green, Draymond   301   751  0.400799  0.452332  0.051533\n",
      "261        201939    Curry, Stephen   209   527  0.396584  0.446906  0.050322\n",
      "147        202709      Joseph, Cory   158   396  0.398990  0.448169  0.049180\n"
     ]
    }
   ],
   "source": [
    "defender_diff= defender_df.sort_values(by = \"diff\",ascending = False)\n",
    "#filter out DF to defenders who have defended at least 300 shots\n",
    "defender_diff_300 = defender_diff[defender_diff[\"DFGA\"]>300]\n",
    "print(defender_diff_300.head(10))"
   ]
  },
  {
   "cell_type": "markdown",
   "metadata": {},
   "source": [
    "The best shot defenders seem to be Tony Allen, Andre Roberson, and Andrew Bogut.  "
   ]
  },
  {
   "cell_type": "markdown",
   "metadata": {},
   "source": [
    "#Worst shot defenders"
   ]
  },
  {
   "cell_type": "code",
   "execution_count": 18,
   "metadata": {
    "collapsed": false
   },
   "outputs": [
    {
     "name": "stdout",
     "output_type": "stream",
     "text": [
      "      Defender_ID             Player  DFGM  DFGA      DFG%      OFG%      diff\n",
      "153        101181     Calderon, Jose   166   297  0.558923  0.447734 -0.111189\n",
      "121        203516       Ennis, James    91   167  0.544910  0.444408 -0.100502\n",
      "238        203561    Davies, Brandon    80   145  0.551724  0.456371 -0.095353\n",
      "9448       203144      Shved, Alexey    61   116  0.525862  0.441178 -0.084685\n",
      "392          2365    Andersen, Chris   143   265  0.539623  0.460305 -0.079318\n",
      "132        203897       LaVine, Zach   155   297  0.521886  0.443534 -0.078352\n",
      "1768       203461   Bennett, Anthony   133   250  0.532000  0.456700 -0.075300\n",
      "3851         2592       Jones, James    55   107  0.514019  0.441967 -0.072051\n",
      "228          2760  Varejao, Anderson   156   294  0.530612  0.458867 -0.071746\n",
      "1925       203925        Harris, Joe    52   102  0.509804  0.439087 -0.070717\n"
     ]
    }
   ],
   "source": [
    "defender_diff = defender_df.sort_values(by = \"diff\", ascending = True)\n",
    "#filter out DF to defenders who have defended at least 100 shots\n",
    "defender_diff_100 = defender_diff[defender_diff[\"DFGA\"]>100]\n",
    "print(defender_diff_100.head(10))"
   ]
  },
  {
   "cell_type": "markdown",
   "metadata": {},
   "source": [
    "The above analysis does not take into account number of dribbles, time on shot clock, distance from hoop, or defender distance from shooter."
   ]
  },
  {
   "cell_type": "code",
   "execution_count": 19,
   "metadata": {
    "collapsed": false
   },
   "outputs": [
    {
     "data": {
      "image/png": "[encoded data removed]",
      "text/plain": [
       "<matplotlib.figure.Figure at 0x107166438>"
      ]
     },
     "metadata": {},
     "output_type": "display_data"
    }
   ],
   "source": [
    "plt.hist(shots[\"SHOT_DIST\"])\n",
    "plt.xlabel(\"Distance of shooter from hoop\")\n",
    "plt.show()"
   ]
  },
  {
   "cell_type": "code",
   "execution_count": 27,
   "metadata": {
    "collapsed": false
   },
   "outputs": [
    {
     "data": {
      "image/png": "[encoded data removed]",
      "text/plain": [
       "<matplotlib.figure.Figure at 0x109ef4e10>"
      ]
     },
     "metadata": {},
     "output_type": "display_data"
    }
   ],
   "source": [
    "plt.hist(shots[\"CLOSE_DEF_DIST\"],bins = 20)\n",
    "plt.xlabel(\"Distance of defender from shooter\")\n",
    "plt.xlim(0,25)\n",
    "plt.show()"
   ]
  },
  {
   "cell_type": "code",
   "execution_count": 30,
   "metadata": {
    "collapsed": false
   },
   "outputs": [
    {
     "data": {
      "image/png": "[encoded data removed]",
      "text/plain": [
       "<matplotlib.figure.Figure at 0x1075b1400>"
      ]
     },
     "metadata": {},
     "output_type": "display_data"
    }
   ],
   "source": [
    "plt.hist(shots[\"DRIBBLES\"],bins = 20)\n",
    "plt.xlabel(\"# of dribbles before shot\")\n",
    "plt.xlim(0,25)\n",
    "plt.show()"
   ]
  },
  {
   "cell_type": "markdown",
   "metadata": {},
   "source": [
    "For each defender, add average dribbles column, average defender distance, and average shot distance."
   ]
  },
  {
   "cell_type": "code",
   "execution_count": 34,
   "metadata": {
    "collapsed": false
   },
   "outputs": [
    {
     "name": "stdout",
     "output_type": "stream",
     "text": [
      "    Defender_ID             Player  DFGM  DFGA      DFG%      OFG%      diff  \\\n",
      "0        101187     Anderson, Alan   174   383  0.454308  0.446833 -0.007475   \n",
      "1        202711  Bogdanovic, Bojan   130   320  0.406250  0.450068  0.043818   \n",
      "3        203900      Brown, Markel    23    50  0.460000  0.446356 -0.013644   \n",
      "4        201152    Young, Thaddeus   256   532  0.481203  0.454338 -0.026865   \n",
      "5        101114    Williams, Deron   150   331  0.453172  0.445280 -0.007892   \n",
      "6        101127      Jack, Jarrett   236   532  0.443609  0.447795  0.004186   \n",
      "7        203486     Plumlee, Mason   259   503  0.514911  0.461527 -0.053383   \n",
      "8        202721     Morris, Darius    27    56  0.482143  0.443712 -0.038431   \n",
      "9        201961   Ellington, Wayne   132   319  0.413793  0.442334  0.028540   \n",
      "10       202391        Lin, Jeremy   224   483  0.463768  0.450417 -0.013351   \n",
      "\n",
      "    Average Defender Distance  Average Shot Distance  \n",
      "0                    4.536815              16.003394  \n",
      "1                    4.104063              16.886250  \n",
      "3                    3.980000              17.012000  \n",
      "4                    4.369361              12.807519  \n",
      "5                    4.431722              16.885196  \n",
      "6                    4.648120              16.633271  \n",
      "7                    3.595229               8.743539  \n",
      "8                    4.575000              16.587500  \n",
      "9                    4.443887              17.757367  \n",
      "10                   3.878468              14.031470  \n"
     ]
    }
   ],
   "source": [
    "for defender_index,defender_row in defender_df.iterrows():\n",
    "    this_defender = defender_row[\"Defender_ID\"]\n",
    "    \n",
    "    #average defender distance\n",
    "    shots_defended_DF = shots[(shots[\"CLOSEST_DEFENDER_PLAYER_ID\"] == this_defender)]\n",
    "    #filter out shots DF into the rows that correspond to the particular defender\n",
    "    Defender_Distance_sum = 0\n",
    "    Shot_distance_sum = 0\n",
    "    for index,row in shots_defended_DF.iterrows():\n",
    "        #for each row, \n",
    "        Defender_Distance_sum += row[\"CLOSE_DEF_DIST\"]\n",
    "        Shot_distance_sum += row[\"SHOT_DIST\"]\n",
    "    Average_defender_distance = Defender_Distance_sum/len(shots_defended_DF)\n",
    "    Average_shot_distance = Shot_distance_sum/len(shots_defended_DF)\n",
    "    defender_df.loc[(defender_df[\"Defender_ID\"]==this_defender),\"Average Defender Distance\"] = Average_defender_distance\n",
    "    defender_df.loc[(defender_df[\"Defender_ID\"]==this_defender),\"Average Shot Distance\"] = Average_shot_distance\n",
    "print(defender_df.head(10))\n",
    "    \n",
    "    \n"
   ]
  },
  {
   "cell_type": "markdown",
   "metadata": {},
   "source": [
    "Find distribution of average defender distances and average shot distances."
   ]
  },
  {
   "cell_type": "code",
   "execution_count": 41,
   "metadata": {
    "collapsed": false
   },
   "outputs": [
    {
     "data": {
      "image/png": "[encoded data removed]",
      "text/plain": [
       "<matplotlib.figure.Figure at 0x107d07630>"
      ]
     },
     "metadata": {},
     "output_type": "display_data"
    },
    {
     "data": {
      "image/png": "[encoded data removed]",
      "text/plain": [
       "<matplotlib.figure.Figure at 0x107d07358>"
      ]
     },
     "metadata": {},
     "output_type": "display_data"
    }
   ],
   "source": [
    "plt.hist(defender_df[\"Average Defender Distance\"],bins = 20)\n",
    "plt.xlabel(\"Average defender distance from shooter\")\n",
    "plt.show()\n",
    "plt.hist(defender_df[\"Average Shot Distance\"],bins = 20)\n",
    "plt.xlabel(\"Average shot distance for each defender\")\n",
    "plt.show()"
   ]
  },
  {
   "cell_type": "code",
   "execution_count": 43,
   "metadata": {
    "collapsed": false
   },
   "outputs": [
    {
     "name": "stdout",
     "output_type": "stream",
     "text": [
      "    Defender_ID             Player  DFGM  DFGA      DFG%      OFG%      diff  \\\n",
      "0        101187     Anderson, Alan   174   383  0.454308  0.446833 -0.007475   \n",
      "1        202711  Bogdanovic, Bojan   130   320  0.406250  0.450068  0.043818   \n",
      "3        203900      Brown, Markel    23    50  0.460000  0.446356 -0.013644   \n",
      "4        201152    Young, Thaddeus   256   532  0.481203  0.454338 -0.026865   \n",
      "5        101114    Williams, Deron   150   331  0.453172  0.445280 -0.007892   \n",
      "6        101127      Jack, Jarrett   236   532  0.443609  0.447795  0.004186   \n",
      "7        203486     Plumlee, Mason   259   503  0.514911  0.461527 -0.053383   \n",
      "8        202721     Morris, Darius    27    56  0.482143  0.443712 -0.038431   \n",
      "9        201961   Ellington, Wayne   132   319  0.413793  0.442334  0.028540   \n",
      "10       202391        Lin, Jeremy   224   483  0.463768  0.450417 -0.013351   \n",
      "\n",
      "    Average Defender Distance  Average Shot Distance  \n",
      "0                    4.536815              16.003394  \n",
      "1                    4.104063              16.886250  \n",
      "3                    3.980000              17.012000  \n",
      "4                    4.369361              12.807519  \n",
      "5                    4.431722              16.885196  \n",
      "6                    4.648120              16.633271  \n",
      "7                    3.595229               8.743539  \n",
      "8                    4.575000              16.587500  \n",
      "9                    4.443887              17.757367  \n",
      "10                   3.878468              14.031470  \n"
     ]
    }
   ],
   "source": [
    "print(defender_df.head(10))"
   ]
  },
  {
   "cell_type": "markdown",
   "metadata": {},
   "source": [
    "Rank best long distance shooter defenders(>16 ft).  Rank best short distance shooter  defenders (< 10 ft).  Are defenders that on average get closer to their shooter better shot defenders?  Plot diff vs. average defender distance for each player"
   ]
  },
  {
   "cell_type": "code",
   "execution_count": 50,
   "metadata": {
    "collapsed": false
   },
   "outputs": [
    {
     "name": "stdout",
     "output_type": "stream",
     "text": [
      "      Defender_ID             Player  DFGM  DFGA      DFG%      OFG%  \\\n",
      "978        101106      Bogut, Andrew   168   433  0.387991  0.460198   \n",
      "440        203497       Gobert, Rudy   192   489  0.392638  0.458280   \n",
      "935          2223  Dalembert, Samuel    94   231  0.406926  0.462430   \n",
      "135        201579       Hibbert, Roy   212   517  0.410058  0.463919   \n",
      "1198       203120   Hamilton, Justin    43   106  0.405660  0.458562   \n",
      "5101       202687   Biyombo, Bismack   102   244  0.418033  0.462850   \n",
      "1183       203544        Antic, Pero    87   205  0.424390  0.463998   \n",
      "138        101133       Mahinmi, Ian   107   248  0.431452  0.462380   \n",
      "8679       202355  Whiteside, Hassan   100   229  0.436681  0.462473   \n",
      "899        201188        Gasol, Marc   274   629  0.435612  0.458022   \n",
      "\n",
      "          diff  Average Defender Distance  Average Shot Distance  \n",
      "978   0.072207                   3.724942               9.597921  \n",
      "440   0.065642                   3.677505               8.854806  \n",
      "935   0.055504                   3.688312               8.576623  \n",
      "135   0.053861                   3.618762               9.333269  \n",
      "1198  0.052902                   3.417925               9.895283  \n",
      "5101  0.044817                   3.352869               9.269672  \n",
      "1183  0.039608                   3.570732               9.666341  \n",
      "138   0.030928                   3.309274               9.127419  \n",
      "8679  0.025792                   3.184279               7.469869  \n",
      "899   0.022410                   3.728617               9.381558  \n"
     ]
    }
   ],
   "source": [
    "#best short range shot defenders\n",
    "short_defenders = defender_df[(defender_df[\"Average Shot Distance\"]<10)&(defender_df[\"DFGA\"]>100)]\n",
    "print(short_defenders.sort_values(by = \"diff\",ascending = False).head(10))"
   ]
  },
  {
   "cell_type": "code",
   "execution_count": 52,
   "metadata": {
    "collapsed": false
   },
   "outputs": [
    {
     "name": "stdout",
     "output_type": "stream",
     "text": [
      "       Defender_ID              Player  DFGM  DFGA      DFG%      OFG%  \\\n",
      "7308          1889       Miller, Andre    54   173  0.312139  0.436608   \n",
      "2020        203468        McCollum, CJ    50   147  0.340136  0.440597   \n",
      "10550       202407     Millsap, Elijah    47   136  0.345588  0.445901   \n",
      "108         204038  Galloway, Langston    63   185  0.340541  0.439311   \n",
      "99          201988        Mills, Patty    43   127  0.338583  0.436897   \n",
      "437         202087         Gee, Alonzo    39   113  0.345133  0.439671   \n",
      "197         203087        Lamb, Jeremy    65   171  0.380117  0.441857   \n",
      "4931        201156         Young, Nick    80   208  0.384615  0.444705   \n",
      "186         203114    Middleton, Khris   165   421  0.391924  0.447774   \n",
      "13            2584       Green, Willie    69   178  0.387640  0.442316   \n",
      "\n",
      "           diff  Average Defender Distance  Average Shot Distance  \n",
      "7308   0.124469                   4.724277              17.689017  \n",
      "2020   0.100461                   3.521769              16.486395  \n",
      "10550  0.100313                   4.027206              16.030147  \n",
      "108    0.098770                   3.958378              16.184324  \n",
      "99     0.098314                   3.932283              16.285039  \n",
      "437    0.094538                   4.812389              16.868142  \n",
      "197    0.061741                   4.586550              16.792982  \n",
      "4931   0.060090                   4.007212              16.271635  \n",
      "186    0.055850                   4.501188              16.193587  \n",
      "13     0.054676                   4.175843              16.280899  \n"
     ]
    }
   ],
   "source": [
    "#Best long range shot defenders\n",
    "long_defenders = defender_df[(defender_df[\"Average Shot Distance\"]>16)&(defender_df[\"DFGA\"]>100)]\n",
    "print(long_defenders.sort_values(by = \"diff\",ascending = False).head(10))"
   ]
  },
  {
   "cell_type": "code",
   "execution_count": 56,
   "metadata": {
    "collapsed": false
   },
   "outputs": [
    {
     "data": {
      "image/png": "[encoded data removed]",
      "text/plain": [
       "<matplotlib.figure.Figure at 0x1082d7400>"
      ]
     },
     "metadata": {},
     "output_type": "display_data"
    }
   ],
   "source": [
    "defender_df_100 = defender_df[defender_df[\"DFGA\"]>100]\n",
    "plt.scatter(defender_df_100[\"Average Defender Distance\"],defender_df_100[\"diff\"])\n",
    "plt.ylabel(\"Defensive impact\")\n",
    "plt.xlabel(\"Average distance defender gets to shooter\")\n",
    "plt.xlim(0,7)\n",
    "plt.show()"
   ]
  },
  {
   "cell_type": "markdown",
   "metadata": {},
   "source": [
    "No obvious correlation between average distance a defender gets to the shooter and the defender's defensive impact."
   ]
  }
 ],
 "metadata": {
  "kernelspec": {
   "display_name": "Python 3",
   "language": "python",
   "name": "python3"
  },
  "language_info": {
   "codemirror_mode": {
    "name": "ipython",
    "version": 3
   },
   "file_extension": ".py",
   "mimetype": "text/x-python",
   "name": "python",
   "nbconvert_exporter": "python",
   "pygments_lexer": "ipython3",
   "version": "3.5.1"
  }
 },
 "nbformat": 4,
 "nbformat_minor": 0
}
